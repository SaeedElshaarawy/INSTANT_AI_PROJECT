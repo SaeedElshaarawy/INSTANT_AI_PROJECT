{
 "cells": [
  {
   "cell_type": "code",
   "execution_count": 1,
   "id": "188995a3",
   "metadata": {
    "ExecuteTime": {
     "end_time": "2022-09-22T17:59:16.203044Z",
     "start_time": "2022-09-22T17:59:13.459705Z"
    }
   },
   "outputs": [],
   "source": [
    "from selenium import webdriver\n",
    "from selenium.webdriver.common.keys import Keys\n",
    "import time\n",
    "from selenium.webdriver.support.wait import WebDriverWait\n",
    "from selenium.webdriver.common.by import By\n",
    "from selenium.webdriver.support import expected_conditions as EC\n",
    "import os\n",
    "from selenium.webdriver import Firefox\n",
    "import wget\n",
    "\n",
    "        "
   ]
  },
  {
   "cell_type": "code",
   "execution_count": 2,
   "id": "0211b7a6",
   "metadata": {
    "ExecuteTime": {
     "end_time": "2022-09-22T18:00:13.152253Z",
     "start_time": "2022-09-22T17:59:16.209046Z"
    }
   },
   "outputs": [],
   "source": [
    "driver = webdriver.Firefox()\n",
    "driver.delete_all_cookies()\n",
    "\n",
    "driver.get(\"https://www.instagram.com\")\n",
    "\n",
    "\n",
    "username = WebDriverWait(driver, 10).until(\n",
    "    EC.element_to_be_clickable((By.CSS_SELECTOR, \"input[name='username']\")))\n",
    "password = WebDriverWait(driver, 10).until(\n",
    "    EC.element_to_be_clickable((By.CSS_SELECTOR, \"input[name='password']\")))\n",
    "\n",
    "username.clear()\n",
    "username.send_keys(\"@\")\n",
    "password.clear()\n",
    "password.send_keys(\"\")\n",
    "\n",
    "\n",
    "button = WebDriverWait(driver, 2).until(EC.element_to_be_clickable(\n",
    "    (By.CSS_SELECTOR, \"button[type='submit']\"))).click()\n",
    "time.sleep(10)\n",
    "not_now = WebDriverWait(driver, 10).until(EC.element_to_be_clickable(\n",
    "    (By.XPATH, \"//button[contains(text(),'Not Now')]\"))).click()\n",
    "time.sleep(10)\n",
    "not_now2 = WebDriverWait(driver, 10).until(EC.element_to_be_clickable(\n",
    "    (By.XPATH, \"//button[contains(text(),'Not Now')]\"))).click()"
   ]
  },
  {
   "cell_type": "code",
   "execution_count": 4,
   "id": "2cf0f8cd",
   "metadata": {
    "ExecuteTime": {
     "end_time": "2022-09-22T18:03:03.980846Z",
     "start_time": "2022-09-22T18:02:48.418406Z"
    }
   },
   "outputs": [],
   "source": [
    "serchbox = WebDriverWait(driver, 10).until(EC.element_to_be_clickable(\n",
    "    (By.XPATH, \"//input[@placeholder='Search']\")))\n",
    "serchbox.clear()\n",
    "\n",
    "keyword = 'giraffeloversclub'\n",
    "serchbox.send_keys(keyword)\n",
    "\n",
    "time.sleep(5)\n",
    "serchbox.send_keys(Keys.ENTER)\n",
    "time.sleep(5)\n",
    "serchbox.send_keys(Keys.ENTER)\n",
    "time.sleep(5)"
   ]
  },
  {
   "cell_type": "code",
   "execution_count": 5,
   "id": "382467b5",
   "metadata": {
    "ExecuteTime": {
     "end_time": "2022-09-22T18:03:15.456843Z",
     "start_time": "2022-09-22T18:03:15.431845Z"
    }
   },
   "outputs": [],
   "source": [
    "images = driver.find_elements(By.XPATH,\"//img[@class='_aagt']\")"
   ]
  },
  {
   "cell_type": "code",
   "execution_count": 6,
   "id": "63671f6f",
   "metadata": {
    "ExecuteTime": {
     "end_time": "2022-09-22T18:08:37.046405Z",
     "start_time": "2022-09-22T18:03:16.225846Z"
    }
   },
   "outputs": [],
   "source": [
    "my_images = set()\n",
    "\n",
    "while True:\n",
    "    for image in images:\n",
    "        source = image.get_attribute('src')\n",
    "        my_images.add(source)\n",
    "    driver.execute_script('window.scrollTo(0, document.body.scrollHeight);')\n",
    "    time.sleep(3)\n",
    "    images = driver.find_elements(By.XPATH,\"//img[@class='_aagt']\")\n",
    "    if len(my_images)>1000:\n",
    "        break"
   ]
  },
  {
   "cell_type": "code",
   "execution_count": 7,
   "id": "a91e299c",
   "metadata": {
    "ExecuteTime": {
     "end_time": "2022-09-22T18:08:37.090410Z",
     "start_time": "2022-09-22T18:08:37.046405Z"
    }
   },
   "outputs": [
    {
     "data": {
      "text/plain": [
       "'L:\\\\Larn\\\\AI\\\\Sessions\\\\Project\\\\instagram scraping\\\\giraffeloversclub'"
      ]
     },
     "execution_count": 7,
     "metadata": {},
     "output_type": "execute_result"
    }
   ],
   "source": [
    "path = os.getcwd()\n",
    "path = os.path.join(path, keyword[:])\n",
    "\n",
    "os.mkdir(path)\n",
    "\n",
    "path"
   ]
  },
  {
   "cell_type": "code",
   "execution_count": 8,
   "id": "12c01849",
   "metadata": {
    "ExecuteTime": {
     "end_time": "2022-09-22T18:18:00.899240Z",
     "start_time": "2022-09-22T18:08:37.090410Z"
    }
   },
   "outputs": [],
   "source": [
    "counter = 0\n",
    "for image in my_images:\n",
    "    save_as = os.path.join(path, keyword[1:] + str(counter) + '.jpg')\n",
    "    wget.download(image, save_as)\n",
    "    counter += 1\n",
    "\n",
    "driver.quit()"
   ]
  }
 ],
 "metadata": {
  "kernelspec": {
   "display_name": "Python 3 (ipykernel)",
   "language": "python",
   "name": "python3"
  },
  "language_info": {
   "codemirror_mode": {
    "name": "ipython",
    "version": 3
   },
   "file_extension": ".py",
   "mimetype": "text/x-python",
   "name": "python",
   "nbconvert_exporter": "python",
   "pygments_lexer": "ipython3",
   "version": "3.9.12"
  }
 },
 "nbformat": 4,
 "nbformat_minor": 5
}
