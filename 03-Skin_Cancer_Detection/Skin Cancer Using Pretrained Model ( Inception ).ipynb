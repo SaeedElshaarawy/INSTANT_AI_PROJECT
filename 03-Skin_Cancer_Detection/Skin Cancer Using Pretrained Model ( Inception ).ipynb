{
 "cells": [
  {
   "cell_type": "code",
   "execution_count": 1,
   "id": "f86b5abf",
   "metadata": {},
   "outputs": [],
   "source": [
    "import pathlib\n",
    "import tensorflow as tf\n",
    "from keras.preprocessing.image import ImageDataGenerator\n",
    "from tensorflow.keras.applications.inception_v3 import InceptionV3\n",
    "from keras.models import Sequential\n",
    "from tensorflow.python.keras.layers import Dense, Flatten, GlobalAveragePooling2D\n",
    "from tensorflow.keras import layers\n",
    "\n"
   ]
  },
  {
   "cell_type": "code",
   "execution_count": 2,
   "id": "ea92c1ae",
   "metadata": {
    "scrolled": true
   },
   "outputs": [],
   "source": [
    "data_dir_train = pathlib.Path(\"data/train\")\n",
    "data_dir_test = pathlib.Path('data/test')"
   ]
  },
  {
   "cell_type": "code",
   "execution_count": 3,
   "id": "1561e3a4",
   "metadata": {},
   "outputs": [],
   "source": [
    "train_datagen = ImageDataGenerator(rescale = 1./255., rotation_range = 40, width_shift_range = 0.2, height_shift_range = 0.2,shear_range = 0.2, zoom_range = 0.2, horizontal_flip = True)\n",
    "\n",
    "test_datagen = ImageDataGenerator( rescale = 1.0/255. )"
   ]
  },
  {
   "cell_type": "code",
   "execution_count": 4,
   "id": "2f66eb2c",
   "metadata": {},
   "outputs": [
    {
     "name": "stdout",
     "output_type": "stream",
     "text": [
      "Found 3637 images belonging to 2 classes.\n",
      "Found 660 images belonging to 2 classes.\n"
     ]
    }
   ],
   "source": [
    "train_generator = train_datagen.flow_from_directory(data_dir_train, batch_size = 20, class_mode = 'binary', target_size = (150, 150))\n",
    "validation_generator = test_datagen.flow_from_directory(data_dir_test, batch_size = 20, class_mode = 'binary', target_size = (150, 150))"
   ]
  },
  {
   "cell_type": "code",
   "execution_count": 5,
   "id": "537b750e",
   "metadata": {},
   "outputs": [],
   "source": [
    "base_model = InceptionV3(input_shape = (150, 150, 3), include_top = False, weights = 'imagenet')"
   ]
  },
  {
   "cell_type": "code",
   "execution_count": 6,
   "id": "3c6ce677",
   "metadata": {},
   "outputs": [
    {
     "name": "stderr",
     "output_type": "stream",
     "text": [
      "C:\\Users\\aneas\\Anaconda3\\lib\\site-packages\\keras\\optimizers\\optimizer_v2\\rmsprop.py:140: UserWarning: The `lr` argument is deprecated, use `learning_rate` instead.\n",
      "  super().__init__(name, **kwargs)\n"
     ]
    }
   ],
   "source": [
    "for layer in base_model.layers:\n",
    "    layer.trainable = False\n",
    "from tensorflow.keras.optimizers import RMSprop\n",
    "\n",
    "x = layers.Flatten()(base_model.output)\n",
    "x = layers.Dense(1024, activation='relu')(x)\n",
    "x = layers.Dropout(0.2)(x)\n",
    "\n",
    "x = layers.Dense(1, activation='sigmoid')(x)\n",
    "\n",
    "model = tf.keras.models.Model(base_model.input, x)\n",
    "\n",
    "model.compile(optimizer = RMSprop(lr=0.0001), loss = 'binary_crossentropy', metrics = ['acc'])"
   ]
  },
  {
   "cell_type": "code",
   "execution_count": 7,
   "id": "04341aae",
   "metadata": {
    "scrolled": false
   },
   "outputs": [
    {
     "name": "stderr",
     "output_type": "stream",
     "text": [
      "C:\\Users\\aneas\\AppData\\Local\\Temp\\ipykernel_2764\\2233576416.py:1: UserWarning: `Model.fit_generator` is deprecated and will be removed in a future version. Please use `Model.fit`, which supports generators.\n",
      "  inc_history = model.fit_generator(train_generator, validation_data = validation_generator, steps_per_epoch = 100, epochs = 20)\n"
     ]
    },
    {
     "name": "stdout",
     "output_type": "stream",
     "text": [
      "Epoch 1/20\n",
      "100/100 [==============================] - 95s 895ms/step - loss: 1.0339 - acc: 0.6915 - val_loss: 0.5268 - val_acc: 0.7697\n",
      "Epoch 2/20\n",
      "100/100 [==============================] - 95s 935ms/step - loss: 0.6233 - acc: 0.7655 - val_loss: 0.6784 - val_acc: 0.7121\n",
      "Epoch 3/20\n",
      "100/100 [==============================] - 80s 796ms/step - loss: 0.5799 - acc: 0.7815 - val_loss: 0.5778 - val_acc: 0.7318\n",
      "Epoch 4/20\n",
      "100/100 [==============================] - 80s 796ms/step - loss: 0.5332 - acc: 0.7860 - val_loss: 0.5545 - val_acc: 0.7530\n",
      "Epoch 5/20\n",
      "100/100 [==============================] - 80s 797ms/step - loss: 0.4993 - acc: 0.8050 - val_loss: 0.5061 - val_acc: 0.7864\n",
      "Epoch 6/20\n",
      "100/100 [==============================] - 80s 798ms/step - loss: 0.5345 - acc: 0.7890 - val_loss: 0.4307 - val_acc: 0.7970\n",
      "Epoch 7/20\n",
      "100/100 [==============================] - 80s 796ms/step - loss: 0.4818 - acc: 0.8062 - val_loss: 0.4947 - val_acc: 0.7955\n",
      "Epoch 8/20\n",
      "100/100 [==============================] - 79s 794ms/step - loss: 0.4952 - acc: 0.8010 - val_loss: 0.4283 - val_acc: 0.8076\n",
      "Epoch 9/20\n",
      "100/100 [==============================] - 79s 794ms/step - loss: 0.4981 - acc: 0.8007 - val_loss: 0.4726 - val_acc: 0.7773\n",
      "Epoch 10/20\n",
      "100/100 [==============================] - 79s 793ms/step - loss: 0.4670 - acc: 0.8145 - val_loss: 0.5152 - val_acc: 0.7773\n",
      "Epoch 11/20\n",
      "100/100 [==============================] - 80s 799ms/step - loss: 0.4754 - acc: 0.8107 - val_loss: 0.4183 - val_acc: 0.8121\n",
      "Epoch 12/20\n",
      "100/100 [==============================] - 80s 799ms/step - loss: 0.4867 - acc: 0.8130 - val_loss: 0.4206 - val_acc: 0.8076\n",
      "Epoch 13/20\n",
      "100/100 [==============================] - 80s 799ms/step - loss: 0.4475 - acc: 0.8197 - val_loss: 0.4587 - val_acc: 0.8061\n",
      "Epoch 14/20\n",
      "100/100 [==============================] - 80s 800ms/step - loss: 0.4625 - acc: 0.8155 - val_loss: 0.4575 - val_acc: 0.7909\n",
      "Epoch 15/20\n",
      "100/100 [==============================] - 80s 804ms/step - loss: 0.4525 - acc: 0.8217 - val_loss: 0.6387 - val_acc: 0.7818\n",
      "Epoch 16/20\n",
      "100/100 [==============================] - 80s 795ms/step - loss: 0.4446 - acc: 0.8277 - val_loss: 0.4457 - val_acc: 0.8061\n",
      "Epoch 17/20\n",
      "100/100 [==============================] - 79s 793ms/step - loss: 0.4282 - acc: 0.8290 - val_loss: 0.4704 - val_acc: 0.8030\n",
      "Epoch 18/20\n",
      "100/100 [==============================] - 80s 800ms/step - loss: 0.4443 - acc: 0.8267 - val_loss: 0.4191 - val_acc: 0.8273\n",
      "Epoch 19/20\n",
      "100/100 [==============================] - 80s 801ms/step - loss: 0.4405 - acc: 0.8207 - val_loss: 0.4328 - val_acc: 0.8076\n",
      "Epoch 20/20\n",
      "100/100 [==============================] - 80s 801ms/step - loss: 0.4045 - acc: 0.8498 - val_loss: 0.5845 - val_acc: 0.8045\n"
     ]
    }
   ],
   "source": [
    "inc_history = model.fit_generator(train_generator, validation_data = validation_generator, steps_per_epoch = 100, epochs = 20)"
   ]
  },
  {
   "cell_type": "code",
   "execution_count": null,
   "id": "7d5f812c",
   "metadata": {},
   "outputs": [],
   "source": []
  }
 ],
 "metadata": {
  "kernelspec": {
   "display_name": "Python 3 (ipykernel)",
   "language": "python",
   "name": "python3"
  },
  "language_info": {
   "codemirror_mode": {
    "name": "ipython",
    "version": 3
   },
   "file_extension": ".py",
   "mimetype": "text/x-python",
   "name": "python",
   "nbconvert_exporter": "python",
   "pygments_lexer": "ipython3",
   "version": "3.9.12"
  }
 },
 "nbformat": 4,
 "nbformat_minor": 5
}
